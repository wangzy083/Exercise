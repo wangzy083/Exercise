{
  "nbformat": 4,
  "nbformat_minor": 0,
  "metadata": {
    "colab": {
      "name": "Untitled4.ipynb",
      "provenance": [],
      "collapsed_sections": [],
      "toc_visible": true,
      "mount_file_id": "1eJ0N7XN6R7bFru4uB1ABTN3sw69XNG3v",
      "authorship_tag": "ABX9TyNiqLORvESbidYyhpX2j+Jg",
      "include_colab_link": true
    },
    "kernelspec": {
      "name": "python3",
      "display_name": "Python 3"
    },
    "language_info": {
      "name": "python"
    }
  },
  "cells": [
    {
      "cell_type": "markdown",
      "metadata": {
        "id": "view-in-github",
        "colab_type": "text"
      },
      "source": [
        "<a href=\"https://colab.research.google.com/github/wangzy083/Exercise/blob/master/Untitled4.ipynb\" target=\"_parent\"><img src=\"https://colab.research.google.com/assets/colab-badge.svg\" alt=\"Open In Colab\"/></a>"
      ]
    },
    {
      "cell_type": "code",
      "metadata": {
        "colab": {
          "base_uri": "https://localhost:8080/",
          "height": 573
        },
        "id": "AGb83ezzPEFF",
        "outputId": "4c8b7479-1f96-4d50-9555-6560faf13430"
      },
      "source": [
        "# 利用鸢尾花数据集，实现前向传播、反向传播，可视化loss曲线\n",
        "\n",
        "# 导入所需模块\n",
        "import tensorflow as tf\n",
        "from sklearn import datasets\n",
        "from matplotlib import pyplot as plt\n",
        "import numpy as np\n",
        "from pandas import DataFrame    #加载pandas包\n",
        "import pandas as pd\n",
        "\n",
        "# 导入数据，分别为输入特征和标签\n",
        "x_data = datasets.load_iris().data\n",
        "y_data = datasets.load_iris().target\n",
        "# x_data = DataFrame(x_data, columns=['花萼长度', '花萼宽度', '花瓣长度', '花瓣宽度'])\n",
        "# # 为增加可读性将数据转化成表格的形式，每一列增加中文标签\n",
        "# # 为表格增加行索引（左侧）和列标签（上方）\n",
        "# pd.set_option('display.unicode.east_asian_width', True)\n",
        "# # 设置列名对齐\n",
        "# print(\"x_data add index(增加格式): \\n\", x_data)\n",
        "\n",
        "# x_data['类别'] = y_data\n",
        "# # 表格中新加一列，列标签为‘类别’，数据为y_data\n",
        "# print(\"x_data add a column(增加格式): \\n\", x_data)\n",
        "\n",
        "\n",
        "# 随机打乱数据（因为原始数据是顺序的，顺序不打乱会影响准确率）\n",
        "# seed: 随机数种子，是一个整数，当设置之后，每次生成的随机数都一样（为方便教学，以保每位同学结果一致）\n",
        "np.random.seed(200)  # 使用相同的seed，保证输入特征和标签一一对应\n",
        "np.random.shuffle(x_data)\n",
        "np.random.seed(200)\n",
        "np.random.shuffle(y_data)\n",
        "tf.random.set_seed(200)\n",
        "\n",
        "# 将打乱后的数据集分割为训练集和测试集，训练集为前120行，测试集为后30行\n",
        "x_train = x_data[:-30]\n",
        "y_train = y_data[:-30]\n",
        "#将打乱后的数据集的前120个数据取出来作为训练集\n",
        "x_test = x_data[-30:]\n",
        "y_test = y_data[-30:]\n",
        "#将打乱后的数据集的后30个数据取出来作为测试集\n",
        "\n",
        "# 转换x的数据类型，否则后面矩阵相乘时会因数据类型不一致报错\n",
        "x_train = tf.cast(x_train, tf.float32)\n",
        "x_test = tf.cast(x_test, tf.float32)\n",
        "\n",
        "# from_tensor_slices函数使输入特征和标签值一一对应。配对打包\n",
        "# （把数据集分批次打包，每32组输入特征和标签对儿打包为一个batch，每个批次batch组数据）\n",
        "# 喂入神经网络时会以batch为单位喂入\n",
        "train_db = tf.data.Dataset.from_tensor_slices((x_train, y_train)).batch(32)\n",
        "test_db = tf.data.Dataset.from_tensor_slices((x_test, y_test)).batch(32)\n",
        "\n",
        "# 定义神经网络的所有可训练参数\n",
        "# 生成神经网络的参数，4个输入特征，故输入层为4个输入节点；\n",
        "# 输出节点等于分类数，因为3分类，故输出层为3个神经元\n",
        "# 所以将参数w1定义为4行3列的可训练张量\n",
        "# b1必须与w1的列数维度一样，w1为3列所以b1为3\n",
        "# 用tf.Variable()标记参数可训练\n",
        "w1 = tf.Variable(tf.random.truncated_normal([4, 3], stddev=0.1, seed=1))\n",
        "b1 = tf.Variable(tf.random.truncated_normal([3], stddev=0.1, seed=1))\n",
        "\n",
        "lr = 0.1  # 学习率为0.1\n",
        "\n",
        "# 下面这两个是画图用的空列表\n",
        "train_loss_results = []  # 将每轮的loss记录在此列表中，为后续画loss曲线提供数据\n",
        "test_acc = []  # 将每轮的acc记录在此列表中，为后续画acc曲线提供数据\n",
        "\n",
        "epoch = 500  # 循环500轮\n",
        "loss_all = 0  # 每轮分4个step，loss_all记录四个step生成的4个loss的和\n",
        "\n",
        "# 训练部分\n",
        "#使用两层for循环来更新参数\n",
        "for epoch in range(epoch):\n",
        "#第一层for循环是针对整个数据集级别的循环，每个epoch循环一次数据集\n",
        "    for step, (x_train, y_train) in enumerate(train_db):\n",
        "    #第二层for循环针对batch级别的循环 ，每个step循环一个batch\n",
        "        with tf.GradientTape() as tape:  # with结构记录梯度信息\n",
        "            y = tf.matmul(x_train, w1) + b1  # 神经网络乘加运算\n",
        "            y = tf.nn.softmax(y)  # 使输出y符合概率分布（此操作后与独热码同量级，可相减求loss）\n",
        "            y_ = tf.one_hot(y_train, depth=3)  # 将标签值转换为独热码格式，方便计算loss和accuracy\n",
        "            loss = tf.reduce_mean(tf.square(y_ - y))  # 采用均方误差损失函数mse = mean(sum(y-out)^2)\n",
        "            loss_all += loss.numpy()  # 将每个step计算出的loss累加，为后续求loss平均值提供数据，这样计算的loss更准确\n",
        "\n",
        "        # 计算loss对w1，b1的偏导数\n",
        "        grads = tape.gradient(loss, [w1, b1])\n",
        "\n",
        "        # 实现梯度更新 w1 = w1 - lr * w1_grad\n",
        "        # b = b - lr * b_grad\n",
        "        w1.assign_sub(lr * grads[0])  # 参数w1自更新\n",
        "        b1.assign_sub(lr * grads[1])  # 参数b自更新\n",
        "\n",
        "\n",
        "\n",
        "    # 训练集有120组数据\n",
        "    # batch里面有32个，每个step只能喂入32组数据，需要batch级别循环4次，所以下面loss除以4\n",
        "    train_loss_results.append(loss_all / 4)  # 将4个step的loss求得每次迭代的平均loss，记录在此变量中\n",
        "    loss_all = 0  # loss_all归零，为记录下一个epoch的loss做准备\n",
        "\n",
        "    # 测试部分\n",
        "    # total_correct为预测对的样本个数, total_number为测试的总样本数，将这两个变量都初始化为0\n",
        "    total_correct, total_number = 0, 0\n",
        "    for x_test, y_test in test_db:\n",
        "        # 使用更新后的参数进行预测\n",
        "        y = tf.matmul(x_test, w1) + b1  #y表示预测结果，前向传播计算出y\n",
        "        y = tf.nn.softmax(y)            #y符合概率分布\n",
        "        pred = tf.argmax(y, axis=1)  # 返回y中最大概率值的索引号，即预测的分类\n",
        "\n",
        "        # 将pred转换为y_test的数据类型\n",
        "        pred = tf.cast(pred, dtype=y_test.dtype)    #调整数据类型与标签一致\n",
        "\n",
        "        # 若分类正确，则correct=1，否则为0，将bool型的结果转换为int型\n",
        "        # 预测和标签一致的则correct自加1\n",
        "        correct = tf.cast(tf.equal(pred, y_test), dtype=tf.int32)\n",
        "        # 将每个batch的correct数加起来\n",
        "        correct = tf.reduce_sum(correct)\n",
        "        # 将所有batch中的correct数加起来\n",
        "        total_correct += int(correct)\n",
        "        # total_number为测试的总样本数，也就是x_test的行数，shape[0]返回变量的行数\n",
        "        total_number += x_test.shape[0]\n",
        "    # 总的准确率等于total_correct/total_number，即correct的个数除以测试集中数据的总数\n",
        "    acc = total_correct / total_number\n",
        "\n",
        "    test_acc.append(acc)\n",
        "\n",
        "# 绘制 loss 曲线\n",
        "plt.title('Loss Function Curve')  # 图片标题\n",
        "plt.xlabel('Epoch')  # x轴变量名称\n",
        "plt.ylabel('Loss')  # y轴变量名称\n",
        "plt.plot(train_loss_results, label=\"$Loss$\")  # 逐点画出trian_loss_results值并连线，连线图标是Loss\n",
        "plt.legend()  # 画出曲线图标\n",
        "plt.show()  # 画出图像\n",
        "\n",
        "# 绘制 Accuracy（准确率） 曲线\n",
        "plt.title('Acc Curve')  # 图片标题\n",
        "plt.xlabel('Epoch')  # x轴变量名称\n",
        "plt.ylabel('Acc')  # y轴变量名称\n",
        "plt.plot(test_acc, label=\"$Accuracy$\")\n",
        "# 标出每个epoch时的准确率\n",
        "# 逐点画出test_acc值并连线，连线图标是Accuracy（准确率）\n",
        "plt.legend()\n",
        "plt.show()\n"
      ],
      "execution_count": null,
      "outputs": [
        {
          "output_type": "display_data",
          "data": {
            "image/png": "[encoded data removed]",
            "text/plain": [
              "<Figure size 432x288 with 1 Axes>"
            ]
          },
          "metadata": {
            "tags": [],
            "needs_background": "light"
          }
        },
        {
          "output_type": "display_data",
          "data": {
            "image/png": "[encoded data removed]",
            "text/plain": [
              "<Figure size 432x288 with 1 Axes>"
            ]
          },
          "metadata": {
            "tags": [],
            "needs_background": "light"
          }
        }
      ]
    },
    {
      "cell_type": "markdown",
      "metadata": {
        "id": "Wtc3bihESGz3"
      },
      "source": [
        "# 新段落"
      ]
    }
  ]
}